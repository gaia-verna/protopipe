{
 "cells": [
  {
   "cell_type": "markdown",
   "metadata": {},
   "source": [
    "# IRFs and sensitivity pyirf - Boostrap"
   ]
  },
  {
   "cell_type": "markdown",
   "metadata": {},
   "source": [
    "**WARNING**\n",
    "\n",
    "This is still a work-in-progress, it will evolve with the pipeline comparisons and converge with ctaplot+cta-benchmarks.\n",
    "\n",
    "**IMPORTANT**\n",
    "\n",
    "Soon this will be supersided by new results using [pyirf](https://github.com/cta-observatory/pyirf) and ctaplot metrics."
   ]
  },
  {
   "cell_type": "markdown",
   "metadata": {},
   "source": [
    "**Author(s):**\n",
    "    \n",
    "- Dr. Michele Peresano (CEA-Saclay/IRFU/DAp/LEPCHE), 2020\n",
    "based on previous work by J. Lefacheur.\n",
    "- Alice Donini (INFN Sezione di Trieste and Universita degli Studi di Udine), 2020\n",
    "- Gaia Verna (Aix Marseille Univ, CNRS/IN2P3, CPPM, Marseille, France), 2020\n",
    "\n",
    "based on [pyirf](https://github.com/cta-observatory/pyirf/blob/master/docs/notebooks/) \n",
    "\n",
    "**Description:**\n",
    "\n",
    "This notebook contains DL3 and benchmarks for the _protopipe_ pipeline. \n",
    "\n",
    "Note that:\n",
    "    - a more general set of benchmarks is being defined in cta-benchmarks/ctaplot,\n",
    "    - follow [this](https://www.overleaf.com/16933164ghbhvjtchknf) document by adding new benchmarks or proposing new ones.\n",
    "\n",
    "**Requirements:**\n",
    "\n",
    "To run this notebook you will need a set of DL2 files produced on the grid with protopipe script _make_performance_pyirf_EventDisplay.py_\n",
    "\n",
    "The MC production to be used and the appropriate set of files to use for this notebook can be found [here](https://forge.in2p3.fr/projects/step-by-step-reference-mars-analysis/wiki#The-MC-sample ).\n",
    "\n",
    "The data format required to run the notebook is the current one used by _protopipe_ .\n",
    "\n",
    "**Development and testing:**  \n",
    "\n",
    "For the moment this notebook is optimized to work only on files produced from LSTCam + NectarCam telescope configurations.  \n",
    "As with any other part of _protopipe_ and being part of the official repository, this notebook can be further developed by any interested contributor.  \n",
    "The execution of this notebook is not currently automatic, it must be done locally by the user - preferably _before_ pushing a pull-request.  \n",
    "**IMPORTANT:** Please, if you wish to contribute to this notebook, before pushing anything to your branch (better even before opening the PR) clear all the output and remove any local directory paths that you used for testing (leave empty strings).\n",
    "\n",
    "**TODO:**  \n",
    "* update everything..."
   ]
  },
  {
   "cell_type": "markdown",
   "metadata": {},
   "source": [
    "## Table of contents\n",
    "\n",
    "* [Optimized cuts](#Optimized-cuts)\n",
    "    - [Direction cut](#Direction-cut)\n",
    "* [Differential sensitivity from cuts optimization](#Differential-sensitivity-from-cuts-optimization)\n",
    "* [IRFs](#IRFs)\n",
    "    - [Effective area](#Effective-area)\n",
    "    - [Point Spread Function](#Point-Spread-Function)\n",
    "        + [Angular resolution](#Angular-resolution)\n",
    "    - [Energy dispersion](#Energy-dispersion)\n",
    "        + [Energy resolution](#Energy-resolution)\n",
    "    - [Background rate](#Background-rate)"
   ]
  },
  {
   "cell_type": "markdown",
   "metadata": {},
   "source": [
    "## Imports"
   ]
  },
  {
   "cell_type": "code",
   "execution_count": null,
   "metadata": {},
   "outputs": [],
   "source": [
    "import os\n",
    "\n",
    "import pyirf\n",
    "import numpy as np\n",
    "from astropy.io import fits\n",
    "import uproot4 as uproot\n",
    "import astropy.units as u\n",
    "import matplotlib.pyplot as plt\n",
    "from astropy.table import QTable, Table, Column\n",
    "from matplotlib.ticker import ScalarFormatter\n",
    "\n",
    "from pyirf.binning import bin_center\n",
    "from pyirf.utils import cone_solid_angle\n",
    "\n",
    "%matplotlib inline\n",
    "plt.rcParams['figure.figsize'] = (9, 6)"
   ]
  },
  {
   "cell_type": "code",
   "execution_count": null,
   "metadata": {},
   "outputs": [],
   "source": [
    "Boostrap = np.arange(0,100)"
   ]
  },
  {
   "cell_type": "markdown",
   "metadata": {},
   "source": [
    "## Input data"
   ]
  },
  {
   "cell_type": "code",
   "execution_count": null,
   "metadata": {},
   "outputs": [],
   "source": [
    "protopipe_path = '/ctadata/gaia/PyIRF_data/IRFs_Sensitivity/Protopipe_Pyirf/STD_protopipe_NO/Baseline/New_RF/irf_tail_Time50.00h/'\n",
    "\n",
    "# Performance calculated with pyirf from ED DL2 files\n",
    "ED_pyirf_file = 'reference_data/aswg/point-like/LaPalma_20_South_EventDisplay/EventDisplay_pyirf_North_20deg_S_onaxis_50h.fits.gz'"
   ]
  },
  {
   "cell_type": "markdown",
   "metadata": {},
   "source": [
    "### Load EventDisplay North perf"
   ]
  },
  {
   "cell_type": "code",
   "execution_count": null,
   "metadata": {},
   "outputs": [],
   "source": [
    "# Path of EventDisplay IRF data in the user's local setup\n",
    "# Please, empty the indir_EventDisplay variable before pushing to the repo\n",
    "indir = \"./reference_data/aswg/point-like/LaPalma_20_South_EventDisplay/\"\n",
    "irf_file_event_display = \"DESY.d20191030.V2.ID0NIM2LST3MST3SST3SCMST3.prod3b-LaPalma-20degt05b-LL.Nb.3AL4-BN15.180000s.root\"\n",
    "\n",
    "irf_eventdisplay = uproot.open(os.path.join(indir, irf_file_event_display))"
   ]
  },
  {
   "cell_type": "markdown",
   "metadata": {},
   "source": [
    "### Load Requirements"
   ]
  },
  {
   "cell_type": "code",
   "execution_count": null,
   "metadata": {},
   "outputs": [],
   "source": [
    "indir = './reference_data/requirements/'\n",
    "\n",
    "site = 'North'\n",
    "obs_time = '50h'\n",
    "\n",
    "# Full array\n",
    "infiles = dict(sens=f'/{site}-{obs_time}.dat') # 30 min\n",
    "requirements = dict()\n",
    "for key in infiles.keys():\n",
    "    requirements[key] = Table.read(indir + infiles[key], format='ascii')\n",
    "requirements['sens'].add_column(Column(data=(10**requirements['sens']['col1']), name='ENERGY'))\n",
    "requirements['sens'].add_column(Column(data=requirements['sens']['col2'], name='SENSITIVITY'))"
   ]
  },
  {
   "cell_type": "markdown",
   "metadata": {},
   "source": [
    "## Optimized cuts"
   ]
  },
  {
   "cell_type": "markdown",
   "metadata": {},
   "source": [
    "### Direction cut"
   ]
  },
  {
   "cell_type": "code",
   "execution_count": null,
   "metadata": {},
   "outputs": [],
   "source": [
    "protopipe_file = protopipe_path + 'pyirf_protopipe.fits.gz'\n",
    "\n",
    "rad_max = QTable.read(protopipe_file, hdu='RAD_MAX')[0]\n",
    "\n",
    "energy_low = rad_max['ENERG_LO'].to_value(u.TeV)\n",
    "energy_high = rad_max['ENERG_HI'].to_value(u.TeV)\n",
    "energy_centers = 0.5 * (rad_max['ENERG_LO'] + rad_max['ENERG_HI']).to_value(u.TeV)\n",
    "energy_width = 0.5 * (rad_max['ENERG_HI'] - rad_max['ENERG_LO']).to_value(u.TeV)\n",
    "\n",
    "theta_cut_boostrap = {}\n",
    "for e in  energy_centers:\n",
    "    theta_cut_boostrap[e] = []   "
   ]
  },
  {
   "cell_type": "code",
   "execution_count": null,
   "metadata": {},
   "outputs": [],
   "source": [
    "for i in Boostrap:\n",
    "    protopipe_file = protopipe_path + f'pyirf_protopipe_{i}.fits.gz'\n",
    "    \n",
    "    # [1:-1] removes under/overflow bins\n",
    "    rad_max = QTable.read(protopipe_file, hdu='RAD_MAX')[0]\n",
    "\n",
    "    for n, e in  enumerate(energy_centers):\n",
    "        theta_cut_boostrap[e].append(rad_max['RAD_MAX'][0][n].value)"
   ]
  },
  {
   "cell_type": "code",
   "execution_count": null,
   "metadata": {},
   "outputs": [],
   "source": [
    "for e in  energy_centers:\n",
    "    \n",
    "    print(f'Bin center {e} TeV')\n",
    "    \n",
    "    plt.hist(theta_cut_boostrap[e], bins=100, alpha=0.5, color='b')\n",
    "    plt.title('theta_cut')\n",
    "    plt.axvline(np.nanmean(theta_cut_boostrap[e]),color='r', linestyle='--',label= 'Mean = {:.3g}'.format(float(np.nanmean(theta_cut_boostrap[e]))))\n",
    "    plt.legend()\n",
    "    plt.grid()\n",
    "    plt.show()    "
   ]
  },
  {
   "cell_type": "code",
   "execution_count": null,
   "metadata": {},
   "outputs": [],
   "source": [
    "E = list(theta_cut_boostrap.keys())\n",
    "\n",
    "theta_cut_boostrap_mean = [ np.nanmean(theta_cut_boostrap[e]) for e in E]\n",
    "theta_cut_boostrap_std = [ np.nanstd(theta_cut_boostrap[e]) for e in E]\n",
    "\n",
    "plt.errorbar(\n",
    "    E,\n",
    "    theta_cut_boostrap_mean,\n",
    "    xerr = energy_width,\n",
    "    yerr = theta_cut_boostrap_std,\n",
    ")\n",
    "plt.ylabel('θ-cut / deg')\n",
    "plt.xlabel(r'$E_\\mathrm{reco} / \\mathrm{TeV}$')\n",
    "plt.xscale('log')\n",
    "plt.grid()"
   ]
  },
  {
   "cell_type": "code",
   "execution_count": null,
   "metadata": {},
   "outputs": [],
   "source": [
    "protopipe_file = protopipe_path + 'pyirf_protopipe.fits.gz'\n",
    "\n",
    "gh_cut = QTable.read(protopipe_file, hdu='GH_CUTS')[1:-1]\n",
    "\n",
    "energy_low = gh_cut['low'].to_value(u.TeV)\n",
    "energy_high = gh_cut['high'].to_value(u.TeV)\n",
    "energy_centers = 0.5 * (gh_cut['low'] + gh_cut['high']).to_value(u.TeV)\n",
    "energy_width = 0.5 * (gh_cut['high'] - gh_cut['low']).to_value(u.TeV)\n",
    "\n",
    "gh_cut_boostrap = {}\n",
    "for e in  energy_centers:\n",
    "    gh_cut_boostrap[e] = [] "
   ]
  },
  {
   "cell_type": "code",
   "execution_count": null,
   "metadata": {},
   "outputs": [],
   "source": [
    "for i in Boostrap:\n",
    "    protopipe_file = protopipe_path + f'pyirf_protopipe_{i}.fits.gz'\n",
    "    \n",
    "    # [1:-1] removes under/overflow bins\n",
    "    gh_cut = QTable.read(protopipe_file, hdu='GH_CUTS')[1:-1]\n",
    "\n",
    "    for n, e in  enumerate(energy_centers):\n",
    "        gh_cut_boostrap[e].append(gh_cut['cut'][n])"
   ]
  },
  {
   "cell_type": "code",
   "execution_count": null,
   "metadata": {},
   "outputs": [],
   "source": [
    "for e in  energy_centers:\n",
    "    \n",
    "    print(f'Bin center {e} TeV')\n",
    "    \n",
    "    plt.hist(gh_cut_boostrap[e], bins=100, alpha=0.5, color='b')\n",
    "    plt.title('gammaness_cut')\n",
    "    plt.axvline(np.nanmean(gh_cut_boostrap[e]),color='r', linestyle='--',label= 'Mean = {:.3g}'.format(float(np.nanmean(gh_cut_boostrap[e]))))\n",
    "    plt.legend()\n",
    "    plt.grid()\n",
    "    plt.show()    "
   ]
  },
  {
   "cell_type": "code",
   "execution_count": null,
   "metadata": {},
   "outputs": [],
   "source": [
    "E = list(gh_cut_boostrap.keys())\n",
    "\n",
    "gh_cut_boostrap_mean = [ np.nanmean(gh_cut_boostrap[e]) for e in E]\n",
    "gh_cut_boostrap_std = [ np.nanstd(gh_cut_boostrap[e]) for e in E]\n",
    "\n",
    "plt.errorbar(\n",
    "    E,\n",
    "    gh_cut_boostrap_mean,\n",
    "    xerr = energy_width,\n",
    "    yerr = gh_cut_boostrap_std,\n",
    ")\n",
    "plt.ylabel('gh-cut / deg')\n",
    "plt.xlabel(r'$E_\\mathrm{reco} / \\mathrm{TeV}$')\n",
    "plt.xscale('log')\n",
    "plt.grid()"
   ]
  },
  {
   "cell_type": "markdown",
   "metadata": {},
   "source": [
    "## Differential sensitivity from cuts optimization"
   ]
  },
  {
   "cell_type": "code",
   "execution_count": null,
   "metadata": {},
   "outputs": [],
   "source": [
    "# [1:-1] removes under/overflow bins\n",
    "sensitivity_protopipe = QTable.read(protopipe_file, hdu='SENSITIVITY')[1:-1]\n",
    "energy_width = (sensitivity_protopipe['reco_energy_high'] - sensitivity_protopipe['reco_energy_low'])\n",
    "\n",
    "#n_signal_boostrap = {}\n",
    "#n_signal_w_boostrap = {}\n",
    "#n_bkg_boostrap = {}\n",
    "#n_bkg_w_boostrap = {}\n",
    "flux_sensitivity_boostrap = {}\n",
    "\n",
    "for e in energy_centers:\n",
    "    flux_sensitivity_boostrap[e] = []"
   ]
  },
  {
   "cell_type": "code",
   "execution_count": null,
   "metadata": {},
   "outputs": [],
   "source": [
    "for i in Boostrap:\n",
    "    \n",
    "    protopipe_file = protopipe_path + f'pyirf_protopipe_{i}.fits.gz'\n",
    "    \n",
    "    # [1:-1] removes under/overflow bins\n",
    "    sensitivity = QTable.read(protopipe_file, hdu='SENSITIVITY')[1:-1]\n",
    "\n",
    "    for n, e in  enumerate(energy_centers):\n",
    "        flux_sensitivity_boostrap[e].append(sensitivity['flux_sensitivity'][n].value)"
   ]
  },
  {
   "cell_type": "code",
   "execution_count": null,
   "metadata": {},
   "outputs": [],
   "source": [
    "for e in  energy_centers[1:-2]:\n",
    "    \n",
    "    print(f'Bin center {e} TeV')\n",
    "    \n",
    "    plt.hist(flux_sensitivity_boostrap[e], bins=100, alpha=0.5, color='b')\n",
    "    plt.title('theta_cut')\n",
    "    plt.axvline(np.nanmean(flux_sensitivity_boostrap[e]),color='r', linestyle='--',label= 'Mean = {:.3g}'.format(float(np.nanmean(flux_sensitivity_boostrap[e]))))\n",
    "    plt.legend()\n",
    "    plt.grid()\n",
    "    plt.show()    "
   ]
  },
  {
   "cell_type": "code",
   "execution_count": null,
   "metadata": {},
   "outputs": [],
   "source": [
    "E = sensitivity_protopipe['reco_energy_center']\n",
    "\n",
    "flux_sensitivity_mean = [ np.nanmean(flux_sensitivity_boostrap[e]) for e in E.value]\n",
    "flux_sensitivity_std = [ np.nanstd(flux_sensitivity_boostrap[e]) for e in E.value]\n",
    "\n",
    "unit = u.Unit('erg cm-2 s-1')\n",
    "\n",
    "s = (E**2 * (flux_sensitivity_mean * u.Unit('cm-2 s-1 TeV-1')))\n",
    "s_err = (E**2 * (flux_sensitivity_std * u.Unit('cm-2 s-1 TeV-1')))\n",
    "\n",
    "# protopipe\n",
    "plt.errorbar(E.value,\n",
    "             s.to_value(unit),\n",
    "             xerr = energy_width.value / 2,\n",
    "             yerr = s_err.to_value(unit),\n",
    "             label='protopipe'\n",
    "            )\n",
    "# Add requirements\n",
    "plt.plot(requirements['sens']['ENERGY'], \n",
    "         requirements['sens']['SENSITIVITY'], \n",
    "         color='black', \n",
    "         ls='--', \n",
    "         lw=2, \n",
    "         label='Requirements'\n",
    ")\n",
    "\n",
    "plt.ylabel(rf\"$(E^2 \\cdot \\mathrm{{Flux Sensitivity}}) /$ ({unit.to_string('latex')})\")\n",
    "plt.xlabel(r'$E_\\mathrm{reco} / \\mathrm{TeV}$')\n",
    "plt.xscale('log')\n",
    "plt.yscale('log')\n",
    "plt.legend()\n",
    "plt.grid()"
   ]
  },
  {
   "cell_type": "markdown",
   "metadata": {},
   "source": [
    "## Sensitivity comparison"
   ]
  },
  {
   "cell_type": "code",
   "execution_count": null,
   "metadata": {},
   "outputs": [],
   "source": [
    "plt.figure(figsize=(12,8))\n",
    "fig, (ax_sens, ax_ratio) = plt.subplots(\n",
    "    2, 1,\n",
    "    gridspec_kw={'height_ratios': [4, 1]},\n",
    "    sharex=True,\n",
    ")\n",
    "\n",
    "E = sensitivity_protopipe['reco_energy_center']\n",
    "\n",
    "flux_sensitivity_mean = [ np.nanmean(flux_sensitivity_boostrap[e]) for e in E.value]\n",
    "flux_sensitivity_std = [ np.nanstd(flux_sensitivity_boostrap[e]) for e in E.value]\n",
    "\n",
    "unit = u.Unit('erg cm-2 s-1')\n",
    "\n",
    "s = (E**2 * (flux_sensitivity_mean * u.Unit('cm-2 s-1 TeV-1')))\n",
    "s_err = (E**2 * (flux_sensitivity_std * u.Unit('cm-2 s-1 TeV-1')))\n",
    "\n",
    "# protopipe\n",
    "ax_sens.errorbar(E.value,\n",
    "             s.to_value(unit),\n",
    "             xerr = energy_width.value / 2,\n",
    "             yerr = s_err.to_value(unit),\n",
    "             label='protopipe',\n",
    "             ls=''\n",
    "            )\n",
    "# ED\n",
    "(y, yerr), edges = irf_eventdisplay[\"DiffSens\"].to_numpy(errors=True)\n",
    "bins = 10**edges\n",
    "x = bin_center(bins)\n",
    "width = np.diff(bins)\n",
    "ax_sens.errorbar(\n",
    "    x,\n",
    "    y, \n",
    "    xerr=width/2,\n",
    "    yerr=yerr,\n",
    "    label=\"EventDisplay\",\n",
    "    ls=''\n",
    ")\n",
    "\n",
    "ax_ratio.errorbar(\n",
    "    E.to_value(u.TeV), \n",
    "    s.to_value(unit) / y,\n",
    "    xerr= energy_width.value /2,\n",
    "    ls=''\n",
    ")\n",
    "ax_ratio.axhline(1, color = 'DarkOrange')\n",
    "ax_ratio.set_yscale('log')\n",
    "ax_ratio.set_xlabel(\"Reconstructed energy / TeV\")\n",
    "ax_ratio.set_ylabel('protopipe / eventdisplay')\n",
    "ax_ratio.grid()\n",
    "ax_ratio.yaxis.set_major_formatter(ScalarFormatter())\n",
    "\n",
    "ax_ratio.set_ylim(0.5, 2.0)\n",
    "ax_ratio.set_yticks([0.5, 2/3, 1, 3/2, 2])\n",
    "ax_ratio.set_yticks([], minor=True)\n",
    "\n",
    "# Style settings\n",
    "ax_sens.set_title('Minimal Flux Satisfying Requirements for 50 hours')\n",
    "ax_sens.set_xscale(\"log\")\n",
    "ax_sens.set_yscale(\"log\")\n",
    "ax_sens.set_ylabel(rf\"$(E^2 \\cdot \\mathrm{{Flux Sensitivity}}) /$ ({unit.to_string('latex')})\")\n",
    "\n",
    "ax_sens.grid(which=\"both\")\n",
    "ax_sens.legend()\n",
    "fig.tight_layout(h_pad=0)"
   ]
  },
  {
   "cell_type": "markdown",
   "metadata": {},
   "source": [
    "# IRFs"
   ]
  },
  {
   "cell_type": "markdown",
   "metadata": {},
   "source": [
    "## Effective area"
   ]
  },
  {
   "cell_type": "code",
   "execution_count": null,
   "metadata": {},
   "outputs": [],
   "source": [
    "area = QTable.read(protopipe_file, hdu='EFFECTIVE_AREA')[0]\n",
    "\n",
    "energy_low = area['ENERG_LO'].to_value(u.TeV)\n",
    "energy_high = area['ENERG_HI'].to_value(u.TeV)\n",
    "energy_centers = 0.5 * (area['ENERG_LO'] + area['ENERG_HI']).to_value(u.TeV)[1:-1]\n",
    "energy_width = 0.5 * (area['ENERG_LO'] - area['ENERG_HI']).to_value(u.TeV)[1:-1]"
   ]
  },
  {
   "cell_type": "code",
   "execution_count": null,
   "metadata": {},
   "outputs": [],
   "source": [
    "Aeff_allcuts_boostrap = {}\n",
    "Aeff_nocuts_boostrap = {}\n",
    "Aeff_onlygh_boostrap = {}\n",
    "Aeff_onlytheta_boostrap = {}\n",
    "\n",
    "for e in  energy_centers:\n",
    "    Aeff_allcuts_boostrap[e] = []\n",
    "    Aeff_nocuts_boostrap[e] = []\n",
    "    Aeff_onlygh_boostrap[e] = []\n",
    "    Aeff_onlytheta_boostrap[e] = []"
   ]
  },
  {
   "cell_type": "code",
   "execution_count": null,
   "metadata": {},
   "outputs": [],
   "source": [
    "for name in ('', '_NO_CUTS', '_ONLY_GH', '_ONLY_THETA'):\n",
    "            \n",
    "    for i in Boostrap:\n",
    "        protopipe_file = protopipe_path + f'pyirf_protopipe_{i}.fits.gz'\n",
    "        \n",
    "        area = QTable.read(protopipe_file, hdu='EFFECTIVE_AREA' + name)[0]\n",
    "\n",
    "        for n, e in  enumerate(energy_centers):\n",
    "            if name == '':\n",
    "                Aeff_allcuts_boostrap[e].append(area['EFFAREA'].to_value(u.m**2).T[1:-1, 0][n])\n",
    "            elif name == '_NO_CUTS':\n",
    "                Aeff_nocuts_boostrap[e].append(area['EFFAREA'].to_value(u.m**2).T[1:-1, 0][n])\n",
    "            elif name == '_ONLY_GH':\n",
    "                Aeff_onlygh_boostrap[e].append(area['EFFAREA'].to_value(u.m**2).T[1:-1, 0][n])\n",
    "            elif name == '_ONLY_THETA':\n",
    "                Aeff_onlytheta_boostrap[e].append(area['EFFAREA'].to_value(u.m**2).T[1:-1, 0][n])"
   ]
  },
  {
   "cell_type": "code",
   "execution_count": null,
   "metadata": {},
   "outputs": [],
   "source": [
    "Aeff_mean=[]\n",
    "Aeff_std=[]\n",
    "\n",
    "name=''\n",
    "Area = Aeff_allcuts_boostrap\n",
    "\n",
    "for e in  energy_centers:\n",
    "    print(f'Bin center {e} TeV')\n",
    "    \n",
    "    mean = np.nanmean(Area[e])\n",
    "    std = np.nanstd(Area[e])\n",
    "    \n",
    "    Aeff_mean.append(mean)\n",
    "    Aeff_std.append(std)\n",
    "    \n",
    "    plt.hist(Area[e],bins=100)\n",
    "    plt.axvline(np.nanmean(Area[e]),\n",
    "                color='r',linestyle='--',\n",
    "                label= '{:.3g} +- {:.3g}'.format(mean,std))\n",
    "    plt.axvline(mean+std,color='r',linestyle='-')\n",
    "    plt.axvline(mean-std,color='r',linestyle='-')\n",
    "    \n",
    "    plt.title('Effective Area')\n",
    "    print(f'NaN values encontered {sum(np.isnan(Area[e]))}')\n",
    "    \n",
    "    plt.legend()\n",
    "    plt.grid()\n",
    "    plt.show()"
   ]
  },
  {
   "cell_type": "code",
   "execution_count": null,
   "metadata": {},
   "outputs": [],
   "source": [
    "# protopipe\n",
    "plt.errorbar(\n",
    "    energy_centers,\n",
    "    Aeff_mean,\n",
    "    xerr=energy_width,\n",
    "    yerr=Aeff_std,\n",
    "    ls='',\n",
    "    label='protopipe ' + name,\n",
    ")\n",
    "\n",
    "# ED\n",
    "(y, yerr), edges = irf_eventdisplay[\"EffectiveAreaEtrue\"].to_numpy(errors=True)\n",
    "x = bin_center(10**edges)\n",
    "xerr = 0.5 * np.diff(10**edges)\n",
    "plt.errorbar(x, y, xerr=xerr, yerr=yerr, ls='', label=\"EventDisplay\")\n",
    "\n",
    "# Style settings\n",
    "plt.xscale(\"log\")\n",
    "plt.yscale(\"log\")\n",
    "plt.xlabel(\"True energy / TeV\")\n",
    "plt.ylabel(\"Effective collection area / m²\")\n",
    "plt.grid(which=\"both\")\n",
    "plt.legend()"
   ]
  },
  {
   "cell_type": "markdown",
   "metadata": {},
   "source": [
    "## Point Spread Function"
   ]
  },
  {
   "cell_type": "code",
   "execution_count": null,
   "metadata": {},
   "outputs": [],
   "source": [
    "ang_res = QTable.read(protopipe_file, hdu='ANGULAR_RESOLUTION')[1:-1]\n",
    "\n",
    "energy_low = ang_res['true_energy_low'].to_value(u.TeV)\n",
    "energy_high = ang_res['true_energy_high'].to_value(u.TeV)\n",
    "energy_centers = 0.5 * (ang_res['true_energy_low'] + ang_res['true_energy_high']).to_value(u.TeV)\n",
    "energy_width = 0.5 * (ang_res['true_energy_high'] - ang_res['true_energy_low']).to_value(u.TeV)"
   ]
  },
  {
   "cell_type": "code",
   "execution_count": null,
   "metadata": {},
   "outputs": [],
   "source": [
    "ang_res_boostrap = {}\n",
    "\n",
    "for e in  energy_centers:\n",
    "    ang_res_boostrap[e] = []"
   ]
  },
  {
   "cell_type": "code",
   "execution_count": null,
   "metadata": {},
   "outputs": [],
   "source": [
    "for i in Boostrap:\n",
    "    \n",
    "    protopipe_file = protopipe_path + f'pyirf_protopipe_{i}.fits.gz'\n",
    "    \n",
    "    ang_res = QTable.read(protopipe_file, hdu='ANGULAR_RESOLUTION')[1:-1]\n",
    "\n",
    "    for n, e in  enumerate(energy_centers):\n",
    "        ang_res_boostrap[e].append(ang_res['angular_resolution'][n].to_value())"
   ]
  },
  {
   "cell_type": "code",
   "execution_count": null,
   "metadata": {},
   "outputs": [],
   "source": [
    "Angres_mean=[]\n",
    "Angres_std=[]\n",
    "\n",
    "for e in  energy_centers:\n",
    "    print(f'Bin center {e} TeV')\n",
    "    \n",
    "    mean = np.nanmean(ang_res_boostrap[e])\n",
    "    std = np.nanstd(ang_res_boostrap[e])\n",
    "    \n",
    "    Angres_mean.append(mean)\n",
    "    Angres_std.append(std)\n",
    "    \n",
    "    plt.hist(ang_res_boostrap[e],bins=100)\n",
    "    plt.axvline(np.nanmean(ang_res_boostrap[e]),\n",
    "                color='r',linestyle='--',\n",
    "                label= '{:.3g} +- {:.3g}'.format(mean,std))\n",
    "    plt.axvline(mean+std,color='r',linestyle='-')\n",
    "    plt.axvline(mean-std,color='r',linestyle='-')\n",
    "    \n",
    "    plt.title('Angular Resolution')\n",
    "    print(f'NaN values encontered {sum(np.isnan(ang_res_boostrap[e]))}')\n",
    "    \n",
    "    plt.legend()\n",
    "    plt.grid()\n",
    "    plt.show()"
   ]
  },
  {
   "cell_type": "code",
   "execution_count": null,
   "metadata": {},
   "outputs": [],
   "source": [
    "# protopipe\n",
    "plt.errorbar(\n",
    "    energy_centers,\n",
    "    Angres_mean,\n",
    "    xerr=energy_width,\n",
    "    yerr=Angres_std,\n",
    "    ls='',\n",
    "    label='pyirf'\n",
    ")\n",
    "\n",
    "# ED\n",
    "# WARNING: ED's Angular resolution is plotted vs Ereco\n",
    "(y, yerr), edges = irf_eventdisplay[\"AngRes\"].to_numpy(errors=True)\n",
    "x = bin_center(10**edges)\n",
    "xerr = 0.5 * np.diff(10**edges)\n",
    "plt.errorbar(x, y, xerr=xerr, yerr=yerr, ls='', label=\"EventDisplay\")\n",
    "\n",
    "\n",
    "# Style settings\n",
    "plt.xscale(\"log\")\n",
    "plt.yscale(\"log\")\n",
    "plt.xlabel(\"True energy / TeV\")\n",
    "plt.ylabel(\"Angular Resolution / deg\")\n",
    "plt.grid(which=\"both\")\n",
    "plt.legend(loc=\"best\")\n",
    "\n",
    "None # to remove clutter by mpl objects"
   ]
  },
  {
   "cell_type": "markdown",
   "metadata": {},
   "source": [
    "## Energy Resolution"
   ]
  },
  {
   "cell_type": "code",
   "execution_count": null,
   "metadata": {},
   "outputs": [],
   "source": [
    "bias_resolution = QTable.read(protopipe_file, hdu='ENERGY_BIAS_RESOLUTION')[1:-1]\n",
    "\n",
    "energy_low = bias_resolution['true_energy_low'].to_value(u.TeV)\n",
    "energy_high = bias_resolution['true_energy_high'].to_value(u.TeV)\n",
    "energy_centers = 0.5 * (bias_resolution['true_energy_low'] + bias_resolution['true_energy_high']).to_value(u.TeV)\n",
    "energy_width = 0.5 * (bias_resolution['true_energy_high'] - bias_resolution['true_energy_low']).to_value(u.TeV)"
   ]
  },
  {
   "cell_type": "code",
   "execution_count": null,
   "metadata": {},
   "outputs": [],
   "source": [
    "energy_res_boostrap = {}\n",
    "\n",
    "for e in  energy_centers:\n",
    "    energy_res_boostrap[e] = []"
   ]
  },
  {
   "cell_type": "code",
   "execution_count": null,
   "metadata": {},
   "outputs": [],
   "source": [
    "for i in Boostrap:\n",
    "    \n",
    "    protopipe_file = protopipe_path + f'pyirf_protopipe_{i}.fits.gz'\n",
    "    energy_res = QTable.read(protopipe_file, hdu='ENERGY_BIAS_RESOLUTION')[1:-1]\n",
    "\n",
    "    for n, e in  enumerate(energy_centers):\n",
    "        energy_res_boostrap[e].append(energy_res['resolution'][n])"
   ]
  },
  {
   "cell_type": "code",
   "execution_count": null,
   "metadata": {},
   "outputs": [],
   "source": [
    "Energyres_mean=[]\n",
    "Energyres_std=[]\n",
    "\n",
    "for e in  energy_centers:\n",
    "    print(f'Bin center {e} TeV')\n",
    "    \n",
    "    mean = np.nanmean(energy_res_boostrap[e])\n",
    "    std = np.nanstd(energy_res_boostrap[e])\n",
    "    \n",
    "    Energyres_mean.append(mean)\n",
    "    Energyres_std.append(std)\n",
    "    \n",
    "    plt.hist(energy_res_boostrap[e],bins=100)\n",
    "    plt.axvline(np.nanmean(energy_res_boostrap[e]),\n",
    "                color='r',linestyle='--',\n",
    "                label= '{:.3g} +- {:.3g}'.format(mean,std))\n",
    "    plt.axvline(mean+std,color='r',linestyle='-')\n",
    "    plt.axvline(mean-std,color='r',linestyle='-')\n",
    "    \n",
    "    plt.title('Angular Resolution')\n",
    "    print(f'NaN values encontered {sum(np.isnan(ang_res_boostrap[e]))}')\n",
    "    \n",
    "    plt.legend()\n",
    "    plt.grid()\n",
    "    plt.show()"
   ]
  },
  {
   "cell_type": "code",
   "execution_count": null,
   "metadata": {},
   "outputs": [],
   "source": [
    "# protopipe\n",
    "plt.errorbar(\n",
    "    energy_centers,\n",
    "    Energyres_mean,\n",
    "    xerr=energy_width,\n",
    "    yerr=Energyres_std,\n",
    "    ls='',\n",
    "    label='pyirf'\n",
    ")\n",
    "\n",
    "# ED\n",
    "# WARNING: ED's Energy resolution is plotted vs Ereco\n",
    "(y, yerr), edges = irf_eventdisplay[\"ERes\"].to_numpy(errors=True)\n",
    "x = bin_center(10**edges)\n",
    "xerr = np.diff(10**edges) / 2\n",
    "plt.errorbar(x, y, xerr=xerr, yerr=yerr, ls='', label=\"EventDisplay\")\n",
    "\n",
    "\n",
    "# Style settings\n",
    "plt.xlim(1.e-2, 2.e2)\n",
    "plt.ylim(2.e-2, 1)\n",
    "plt.xscale(\"log\")\n",
    "plt.yscale(\"log\")\n",
    "plt.xlabel(\"True energy / TeV\")\n",
    "plt.ylabel(\"Energy Resolution / deg\")\n",
    "plt.grid(which=\"both\")\n",
    "plt.legend(loc=\"best\")\n",
    "\n",
    "None # to remove clutter by mpl objects"
   ]
  },
  {
   "cell_type": "markdown",
   "metadata": {},
   "source": [
    "## Background rate"
   ]
  },
  {
   "cell_type": "code",
   "execution_count": null,
   "metadata": {},
   "outputs": [],
   "source": [
    "from pyirf.utils import cone_solid_angle\n",
    "\n",
    "# protopipe\n",
    "bg_rate = QTable.read(protopipe_file, hdu='BACKGROUND')[0]\n",
    "\n",
    "energy_low = bg_rate['ENERG_LO'].to_value(u.TeV)\n",
    "energy_high = bg_rate['ENERG_HI'].to_value(u.TeV)\n",
    "energy_centers = 0.5 * (bg_rate['ENERG_LO'] + bg_rate['ENERG_HI']).to_value(u.TeV)\n",
    "energy_width = 0.5 * (bg_rate['ENERG_HI'] - bg_rate['ENERG_LO']).to_value(u.TeV)"
   ]
  },
  {
   "cell_type": "code",
   "execution_count": null,
   "metadata": {},
   "outputs": [],
   "source": [
    "bg_rate_boostrap = {}\n",
    "\n",
    "for e in  energy_centers:\n",
    "    bg_rate_boostrap[e] = []"
   ]
  },
  {
   "cell_type": "code",
   "execution_count": null,
   "metadata": {},
   "outputs": [],
   "source": [
    "for i in Boostrap:\n",
    "    \n",
    "    protopipe_file = protopipe_path + f'pyirf_protopipe_{i}.fits.gz'\n",
    "    bg_rate = QTable.read(protopipe_file, hdu='BACKGROUND')[0]\n",
    "    \n",
    "    reco_bins = np.append(bg_rate['ENERG_LO'], bg_rate['ENERG_HI'][-1])\n",
    "\n",
    "    # first fov bin, [0, 1] deg\n",
    "    fov_bin = 0\n",
    "    rate_bin = bg_rate['BKG'].T[:, fov_bin]\n",
    "\n",
    "    # interpolate theta cut for given e reco bin\n",
    "    e_center_bg = 0.5 * (bg_rate['ENERG_LO'] + bg_rate['ENERG_HI'])\n",
    "    e_center_theta = 0.5 * (rad_max['ENERG_LO'] + rad_max['ENERG_HI'])\n",
    "    theta_cut = np.interp(e_center_bg, e_center_theta, rad_max['RAD_MAX'].T[:, 0])\n",
    "\n",
    "    # undo normalization\n",
    "    rate_bin *= cone_solid_angle(theta_cut)\n",
    "    rate_bin *= np.diff(reco_bins)\n",
    "\n",
    "    for n, e in  enumerate(energy_centers):\n",
    "        bg_rate_boostrap[e].append(rate_bin[n].to_value(1 / u.s))"
   ]
  },
  {
   "cell_type": "code",
   "execution_count": null,
   "metadata": {},
   "outputs": [],
   "source": [
    "Bg_rate_mean=[]\n",
    "Bg_rate_std=[]\n",
    "\n",
    "for e in  energy_centers:\n",
    "    print(f'Bin center {e} TeV')\n",
    "    \n",
    "    \"\"\"if np.isnan(bg_rate_boostrap[e]).all():\n",
    "        print('all NaN!')\n",
    "    else:\"\"\"\n",
    "    mean = np.nanmean(bg_rate_boostrap[e])\n",
    "    std = np.nanstd(bg_rate_boostrap[e])\n",
    "\n",
    "\n",
    "    Bg_rate_mean.append(mean)\n",
    "    Bg_rate_std.append(std)\n",
    "\n",
    "    plt.hist(bg_rate_boostrap[e],bins=100)\n",
    "    plt.axvline(np.nanmean(bg_rate_boostrap[e]),\n",
    "                color='r',linestyle='--',\n",
    "                label= '{:.3g} +- {:.3g}'.format(mean,std))\n",
    "    plt.axvline(mean+std,color='r',linestyle='-')\n",
    "    plt.axvline(mean-std,color='r',linestyle='-')\n",
    "\n",
    "    plt.title('Bkg Rate')\n",
    "    print(f'NaN values encontered {sum(np.isnan(bg_rate_boostrap[e]))}')\n",
    "\n",
    "    plt.legend()\n",
    "    plt.grid()\n",
    "    plt.show()"
   ]
  },
  {
   "cell_type": "code",
   "execution_count": null,
   "metadata": {},
   "outputs": [],
   "source": [
    "# protopipe\n",
    "plt.errorbar(\n",
    "    energy_centers,\n",
    "    Bg_rate_mean,\n",
    "    xerr=energy_width,\n",
    "    yerr=Bg_rate_std,\n",
    "    ls='',\n",
    "    label='pyirf'\n",
    ")\n",
    "\n",
    "# ED\n",
    "(y, yerr), edges = irf_eventdisplay[\"BGRate\"].to_numpy(errors=True)\n",
    "x = bin_center(10**edges)\n",
    "xerr = np.diff(10**edges) / 2\n",
    "plt.errorbar(x, y, xerr=xerr, yerr=yerr, ls='', label=\"EventDisplay\")\n",
    "\n",
    "\n",
    "\n",
    "# Style settings\n",
    "plt.xscale(\"log\")\n",
    "plt.xlabel(r\"$E_\\mathrm{Reco} / \\mathrm{TeV}$\")\n",
    "plt.ylabel(\"Background rate / (s⁻¹ TeV⁻¹) \")\n",
    "plt.grid(which=\"both\")\n",
    "plt.legend(loc=\"best\")\n",
    "plt.yscale('log')\n",
    "\n",
    "None # to remove clutter by mpl objects"
   ]
  }
 ],
 "metadata": {
  "kernelspec": {
   "display_name": "Python 3",
   "language": "python",
   "name": "python3"
  },
  "language_info": {
   "codemirror_mode": {
    "name": "ipython",
    "version": 3
   },
   "file_extension": ".py",
   "mimetype": "text/x-python",
   "name": "python",
   "nbconvert_exporter": "python",
   "pygments_lexer": "ipython3",
   "version": "3.7.4"
  }
 },
 "nbformat": 4,
 "nbformat_minor": 4
}
